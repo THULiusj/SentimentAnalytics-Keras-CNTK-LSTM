{
 "cells": [
  {
   "cell_type": "markdown",
   "metadata": {},
   "source": [
    "## 亚马逊商城服装商品评论的情感分析"
   ]
  },
  {
   "cell_type": "code",
   "execution_count": 18,
   "metadata": {},
   "outputs": [],
   "source": [
    "# First import all the necessary packages\n",
    "from __future__ import print_function\n",
    "import time\n",
    "import numpy as np\n",
    "import pandas\n",
    "import codecs\n",
    "import operator\n",
    "import requests\n",
    "import pickle\n",
    "\n",
    "from keras.preprocessing import sequence, text\n",
    "from keras.models import Model, Sequential, load_model\n",
    "from keras.layers import Dense, Dropout, Embedding, LSTM, Bidirectional, Input, merge, concatenate, BatchNormalization\n",
    "from keras.preprocessing.text import Tokenizer\n",
    "\n",
    "import os\n",
    "from os import listdir\n",
    "from os.path import isfile, join"
   ]
  },
  {
   "cell_type": "code",
   "execution_count": 2,
   "metadata": {},
   "outputs": [
    {
     "data": {
      "text/plain": [
       "True"
      ]
     },
     "execution_count": 2,
     "metadata": {},
     "output_type": "execute_result"
    }
   ],
   "source": [
    "#Set GPU[0] as default training device\n",
    "import cntk\n",
    "cntk.try_set_default_device(cntk.device.gpu(0))"
   ]
  },
  {
   "cell_type": "code",
   "execution_count": 3,
   "metadata": {
    "collapsed": true
   },
   "outputs": [],
   "source": [
    "np.random.seed(1337)  # for reproducibility"
   ]
  },
  {
   "cell_type": "code",
   "execution_count": 4,
   "metadata": {
    "collapsed": true
   },
   "outputs": [],
   "source": [
    "max_features = 5000 # maximum number of words in your dictionary\n",
    "max_len = 100  # cut texts after this number of words (among top max_features most common words)"
   ]
  },
  {
   "cell_type": "code",
   "execution_count": 5,
   "metadata": {},
   "outputs": [
    {
     "name": "stdout",
     "output_type": "stream",
     "text": [
      "x:\n",
      "[ \"We've test-buy several similar items of different brands..... THIS ONE WAS THE BEST - (by my husband opinion) - so we've got him several more - couple days later.\"]\n",
      "[ \"I have been very happy with this brand of shorts. They are comfortable and seem to wear very well. No complaints at all. I like that they are a little longer than most. They don't provide any support, so you wouldn't want to wear them jogging, but for hiking they are great.\"]\n",
      "X_train.length:  42648\n",
      "X_test.length:  10662\n",
      "y:\n",
      "[1]\n",
      "[1]\n",
      "Y_train.length:  42648\n",
      "Y_test.length:  10662\n"
     ]
    }
   ],
   "source": [
    "#import data from csv file\n",
    "data = pandas.read_csv(\"Data/dataset_clothing.csv\", delimiter=',',quotechar='\"',quoting=0,names=['review','sentiment'],header=None)\n",
    "X = data['review'].apply(str).values\n",
    "Y = data['sentiment'].values\n",
    "\n",
    "#Split data into training data(80%) and test data(20%)\n",
    "arr_rand = np.random.rand(X.shape[0])\n",
    "split = arr_rand < np.percentile(arr_rand, 80)\n",
    "X_train = X[split]\n",
    "Y_train = Y[split]\n",
    "X_test =  X[~split]\n",
    "Y_test = Y[~split]\n",
    "\n",
    "print('x:')\n",
    "print(X_train[:1])\n",
    "print(X_test[:1])\n",
    "print('X_train.length: ', len(X_train))\n",
    "print('X_test.length: ', len(X_test))\n",
    "print('y:')\n",
    "print(Y_train[:1])\n",
    "print(Y_test[:1])\n",
    "print('Y_train.length: ', len(Y_train))\n",
    "print('Y_test.length: ', len(Y_test))"
   ]
  },
  {
   "cell_type": "code",
   "execution_count": 6,
   "metadata": {},
   "outputs": [
    {
     "name": "stdout",
     "output_type": "stream",
     "text": [
      "15 are\n",
      "14 but\n",
      "19 on\n",
      "6 it\n",
      "11 in\n",
      "10 this\n",
      "12 they\n",
      "2 i\n",
      "13 my\n",
      "18 that\n",
      "8 for\n",
      "4 a\n",
      "9 of\n",
      "5 to\n",
      "16 not\n",
      "1 the\n",
      "7 is\n",
      "17 these\n",
      "3 and\n"
     ]
    }
   ],
   "source": [
    "#Tokenize works to list of integers where each integer is a key to a word, filter all the punctuation.\n",
    "reviewTokenizer = Tokenizer(num_words=max_features, filters='!\"#$%&()*+,-./:;<=>?@[\\\\]^_`{|}~\\t\\n', lower=True, split=\" \")\n",
    "reviewTokenizer.fit_on_texts(X_train)\n",
    "\n",
    "#Print top 20 words \n",
    "#Note zero is reserved for non frequent words\n",
    "for word, value in reviewTokenizer.word_index.items():\n",
    "    if value < 20:\n",
    "        print(value, word)"
   ]
  },
  {
   "cell_type": "code",
   "execution_count": 7,
   "metadata": {},
   "outputs": [
    {
     "name": "stdout",
     "output_type": "stream",
     "text": [
      "the\n",
      "i\n",
      "wear\n"
     ]
    }
   ],
   "source": [
    "#Create int to word dictionary\n",
    "intToWord = {}\n",
    "for word, value in reviewTokenizer.word_index.items():\n",
    "    intToWord[value] = word\n",
    "\n",
    "#Add a symbol for null placeholder\n",
    "intToWord[0] = \"!!!NA!!!\"\n",
    "\n",
    "print(intToWord[1])\n",
    "print(intToWord[2])\n",
    "print(intToWord[32])"
   ]
  },
  {
   "cell_type": "code",
   "execution_count": 8,
   "metadata": {},
   "outputs": [
    {
     "name": "stdout",
     "output_type": "stream",
     "text": [
      "We've test-buy several similar items of different brands..... THIS ONE WAS THE BEST - (by my husband opinion) - so we've got him several more - couple days later.\n",
      "[2112, 1554, 89, 297, 625, 592, 9, 198, 648, 10, 37, 20, 1, 256, 143, 13, 247, 954, 24, 2112, 96, 401, 297, 50, 380, 300, 720]\n",
      "we've\n",
      "test\n",
      "buy\n",
      "several\n",
      "similar\n",
      "items\n",
      "of\n",
      "different\n",
      "brands\n",
      "this\n",
      "one\n",
      "was\n",
      "the\n",
      "best\n",
      "by\n",
      "my\n",
      "husband\n",
      "opinion\n",
      "so\n",
      "we've\n",
      "got\n",
      "him\n",
      "several\n",
      "more\n",
      "couple\n",
      "days\n",
      "later\n"
     ]
    }
   ],
   "source": [
    "print(X_train[0])\n",
    "\n",
    "#Convert word strings to integer sequence lists\n",
    "X_train = reviewTokenizer.texts_to_sequences(X_train)\n",
    "X_test = reviewTokenizer.texts_to_sequences(X_test)\n",
    "\n",
    "print(X_train[0])\n",
    "for value in X_train[0]:\n",
    "    print(intToWord[value])"
   ]
  },
  {
   "cell_type": "code",
   "execution_count": 9,
   "metadata": {},
   "outputs": [
    {
     "name": "stdout",
     "output_type": "stream",
     "text": [
      "Pad sequences (samples x time)\n",
      "X_train shape: (42648, 100)\n",
      "X_test shape: (10662, 100)\n"
     ]
    }
   ],
   "source": [
    "# Pad the data to a solid length\n",
    "X_train = sequence.pad_sequences(X_train, maxlen=max_len, padding='post')\n",
    "X_test = sequence.pad_sequences(X_test, maxlen=max_len, padding='post')\n",
    "Y_train = np.array(Y_train)\n",
    "Y_test = np.array(Y_test)\n",
    "\n",
    "print(\"Pad sequences (samples x time)\")\n",
    "print('X_train shape:', X_train.shape)\n",
    "print('X_test shape:', X_test.shape)"
   ]
  },
  {
   "cell_type": "code",
   "execution_count": 10,
   "metadata": {
    "collapsed": true
   },
   "outputs": [],
   "source": [
    "#Set model hyper parameters\n",
    "epochs = 4\n",
    "embedding_neurons = 128\n",
    "lstm_neurons = 64\n",
    "batch_size = 32"
   ]
  },
  {
   "cell_type": "code",
   "execution_count": 11,
   "metadata": {},
   "outputs": [
    {
     "name": "stdout",
     "output_type": "stream",
     "text": [
      "_________________________________________________________________\n",
      "Layer (type)                 Output Shape              Param #   \n",
      "=================================================================\n",
      "input_1 (InputLayer)         (None, 100)               0         \n",
      "_________________________________________________________________\n",
      "embedding_1 (Embedding)      (None, 100, 128)          640000    \n",
      "_________________________________________________________________\n",
      "bidirectional_1 (Bidirection (None, 128)               98816     \n",
      "_________________________________________________________________\n",
      "dropout_1 (Dropout)          (None, 128)               0         \n",
      "_________________________________________________________________\n",
      "dense_1 (Dense)              (None, 1)                 129       \n",
      "=================================================================\n",
      "Total params: 738,945\n",
      "Trainable params: 738,945\n",
      "Non-trainable params: 0\n",
      "_________________________________________________________________\n",
      "None\n"
     ]
    }
   ],
   "source": [
    "# Bi-directional LSTM\n",
    "\n",
    "# This is the placeholder tensor for the input sequences\n",
    "sequence = Input(shape=(max_len,), dtype='int32')\n",
    "\n",
    "# This embedding layer will transform the sequences of integers into vectors of size embedding\n",
    "# Embedding layer converts dense int input to one-hot in real time to save memory\n",
    "embedded = Embedding(max_features, embedding_neurons, input_length=max_len)(sequence)\n",
    "\n",
    "# Normalize embeddings by input/word in sentence\n",
    "bnorm = BatchNormalization()(embedded)\n",
    "\n",
    "# Create Bidirectional LSTM model\n",
    "merged = Bidirectional(LSTM(lstm_neurons, dropout=0.2, recurrent_dropout=0.2), merge_mode='concat')(embedded)\n",
    "\n",
    "after_dp = Dropout(0.5)(merged)\n",
    "output = Dense(1, activation='sigmoid')(after_dp)\n",
    "\n",
    "model_bidir_atom = Model(inputs=sequence, outputs=output)\n",
    "\n",
    "# Review model structure\n",
    "print(model_bidir_atom.summary())"
   ]
  },
  {
   "cell_type": "code",
   "execution_count": 12,
   "metadata": {},
   "outputs": [
    {
     "name": "stdout",
     "output_type": "stream",
     "text": [
      "Train...\n",
      "Train on 42648 samples, validate on 10662 samples\n",
      "Epoch 1/4\n",
      "222s - loss: 0.3285 - acc: 0.8669 - val_loss: 0.2539 - val_acc: 0.8983\n",
      "Epoch 2/4\n",
      "222s - loss: 0.2479 - acc: 0.9055 - val_loss: 0.2434 - val_acc: 0.9054\n",
      "Epoch 3/4\n",
      "223s - loss: 0.2227 - acc: 0.9143 - val_loss: 0.2285 - val_acc: 0.9106\n",
      "Epoch 4/4\n",
      "223s - loss: 0.2045 - acc: 0.9225 - val_loss: 0.2302 - val_acc: 0.9137\n",
      "avg sec per epoch: 223.0854321718216\n"
     ]
    }
   ],
   "source": [
    "# Bi-directional Atom\n",
    "\n",
    "# Using optimizers of rmsprop\n",
    "model_bidir_atom.compile('rmsprop', 'binary_crossentropy', metrics=['accuracy'])\n",
    "\n",
    "print('Train...')\n",
    "start_time = time.time()\n",
    "\n",
    "# Train the model\n",
    "history_bidir_atom = model_bidir_atom.fit(X_train, Y_train,\n",
    "                    batch_size=batch_size,\n",
    "                    epochs=epochs,\n",
    "                    validation_data=[X_test, Y_test], \n",
    "                    verbose=2)\n",
    "\n",
    "end_time = time.time()\n",
    "average_time_per_epoch = (end_time - start_time) / epochs\n",
    "print(\"avg sec per epoch:\", average_time_per_epoch)"
   ]
  },
  {
   "cell_type": "code",
   "execution_count": 13,
   "metadata": {},
   "outputs": [
    {
     "name": "stdout",
     "output_type": "stream",
     "text": [
      "saved!\n"
     ]
    }
   ],
   "source": [
    "# Save model\n",
    "model_bidir_atom.save(\"Model/bidir.hdf5\")\n",
    "model_json_string=model_bidir_atom.to_json()\n",
    "open('Model/bidir_architecture.json','w+').write(model_json_string)\n",
    "model_bidir_atom.save_weights(\"Model/bidir_weights.h5\")\n",
    "\n",
    "# Save tokenizer\n",
    "with open('Model/tokenizer.pickle', 'wb') as handle:\n",
    "    pickle.dump(reviewTokenizer, handle, protocol=pickle.HIGHEST_PROTOCOL)\n",
    "\n",
    "print('saved!')"
   ]
  },
  {
   "cell_type": "code",
   "execution_count": 14,
   "metadata": {
    "collapsed": true
   },
   "outputs": [],
   "source": [
    "# Load model and tokenizer\n",
    "with open('Model/tokenizer.pickle', 'rb') as handle:\n",
    "    tokenizer = pickle.load(handle)\n",
    "\n",
    "model = load_model(\"Model/bidir.hdf5\")"
   ]
  },
  {
   "cell_type": "code",
   "execution_count": 19,
   "metadata": {},
   "outputs": [
    {
     "data": {
      "text/plain": [
       "array([[ 0.83434963]], dtype=float32)"
      ]
     },
     "execution_count": 19,
     "metadata": {},
     "output_type": "execute_result"
    }
   ],
   "source": [
    "test = \"This is my second pair, I wore the first pair for over 5 years and still have them (as a back up).  They are sturdy and fashionable.\"\n",
    "test = tokenizer.texts_to_sequences([test])\n",
    "test = sequence.pad_sequences(test, maxlen=max_len)\n",
    "\n",
    "#model_bidir_atom.predict(test)\n",
    "model.predict(test)"
   ]
  },
  {
   "cell_type": "code",
   "execution_count": null,
   "metadata": {
    "collapsed": true
   },
   "outputs": [],
   "source": []
  }
 ],
 "metadata": {
  "kernelspec": {
   "display_name": "Python [conda env:py35]",
   "language": "python",
   "name": "conda-env-py35-py"
  },
  "language_info": {
   "codemirror_mode": {
    "name": "ipython",
    "version": 3
   },
   "file_extension": ".py",
   "mimetype": "text/x-python",
   "name": "python",
   "nbconvert_exporter": "python",
   "pygments_lexer": "ipython3",
   "version": "3.5.4"
  }
 },
 "nbformat": 4,
 "nbformat_minor": 2
}
